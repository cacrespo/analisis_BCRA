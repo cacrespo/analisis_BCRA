{
 "cells": [
  {
   "cell_type": "markdown",
   "metadata": {},
   "source": [
    "# Análisis deudores BCRA\n",
    "## mayo de 2020\n",
    "\n",
    "Autor: Carlos A. Crespo (lvccrespo@gmail.com)"
   ]
  },
  {
   "cell_type": "markdown",
   "metadata": {},
   "source": [
    "El Banco Central de la República Argentina actualiza mensualmente información respecto a la totalidad de deudores del sistema financiero. Esta información es pública y se conforma con los datos que mensualmente envían las entidades financieras en base a su contabilidad.\n",
    "\n",
    "Cabe aclarar, que los datos son publicados por dos años más desde la cancelación de cualquier deuda o por cinco años desde que la deuda entró en mora (artículo 26 inciso 4, de la Ley 25.326 de Protección de Datos Personales y su decreto reglamentario).\n",
    "\n",
    "Para más información: https://www.bcra.gob.ar/BCRAyVos/Situacion_Crediticia.asp"
   ]
  },
  {
   "cell_type": "markdown",
   "metadata": {},
   "source": [
    "Hemos descargado la información a febrero 2020, así que ¡manos a la obra!"
   ]
  },
  {
   "cell_type": "markdown",
   "metadata": {},
   "source": [
    "## Procesamiento previo\n",
    "Contamos con un archivo _\"deudores.txt\"_ que pesa **4.57 GB**. ***Cargar directamente toda esa info en memoria haría explotar todo*** así que vamos a levantar un pequeño dataset de prueba para revisar la información.\n",
    "\n",
    "Repasando los metadatos de la base, hemos decidido:\n",
    "- quedarnos con las columnas __\"entidad\"__, __\"cuitcuil\"__, __\"totalprestamos\"__ (el resto de los campos se descartan)\n",
    "- el archivo contempla la deuda tanto de personas físicas como de __empresas__. Haremos foco en estás últimas."
   ]
  },
  {
   "cell_type": "code",
   "execution_count": 1,
   "metadata": {},
   "outputs": [
    {
     "name": "stdout",
     "output_type": "stream",
     "text": [
      "     entidad     cuitcuil totalprestamos\n",
      "0          7  20005744181            2,0\n",
      "1          7  20005746397            5,0\n",
      "2          7  20008281905            8,0\n",
      "3          7  20018216443          137,0\n",
      "4          7  20009523058           34,0\n",
      "..       ...          ...            ...\n",
      "195        7  20040309609           24,0\n",
      "196        7  20040485261            7,0\n",
      "197        7  20016753778           12,0\n",
      "198        7  20027939091            3,0\n",
      "199        7  20018032814           22,0\n",
      "\n",
      "[200 rows x 3 columns]\n"
     ]
    }
   ],
   "source": [
    "import pandas as pd\n",
    "\n",
    "col_specification =[(0, 5), (13, 24), (29, 41)] # los valores corresponden al punto de inicio y corte de cada campo\n",
    "nombres_columnas = [\"entidad\", \"cuitcuil\", \"totalprestamos\"]\n",
    "test = pd.read_fwf('deudores.txt',  nrows = 200, colspecs=col_specification, \n",
    "                     header=None,index=False, names = nombres_columnas)\n",
    "\n",
    "print(test)"
   ]
  },
  {
   "cell_type": "markdown",
   "metadata": {},
   "source": [
    "Para poder manejar el archivo y obtener los datos que requerimos vamos a usar una funcionalidad de pandas que se llama ***chunksize***.\n",
    "Básicamente lo que hace es partir el archivo original en porciones más chicas (y manipulables para nuestra vieja y querida PC)."
   ]
  },
  {
   "cell_type": "code",
   "execution_count": 2,
   "metadata": {},
   "outputs": [],
   "source": [
    "size = 10 ** 5 # tamaño del chunk. Esto es, cuántas filas va a contener cada \"porción\" del archivo original\n",
    "\n",
    "df_chunk = pd.read_fwf('deudores.txt', chunksize=size, colspecs=col_specification,\n",
    "                       header=None,index=False, names = nombres_columnas)"
   ]
  },
  {
   "cell_type": "markdown",
   "metadata": {},
   "source": [
    "Ya tenemos las columnas que necesitamos.\n",
    "\n",
    "Ahora vamos a quedarnos sólamente con las personas jurídicas.\n",
    "Sabemos que en Argentina el CUIT permite identificar inequívocamente si se trata de una persona física o jurídica: aquellos que empiezan con 30, 33 y 34 corresponden a empresas."
   ]
  },
  {
   "cell_type": "code",
   "execution_count": 3,
   "metadata": {},
   "outputs": [],
   "source": [
    "chunk_list = [] # en esta lista vamos a alojar cada chunk que vamos iterando\n",
    "\n",
    "for chunk in df_chunk:  \n",
    "    # Nos quedamos sólo con personas jurídicas\n",
    "    chunk_filter = chunk[chunk[\"cuitcuil\"].astype(str).str[:2].isin([\"30\",\"33\",\"34\"])]\n",
    "    chunk_list.append(chunk_filter)\n",
    "    \n",
    "# Concatenamos los datos filtrados en un DataFrame \n",
    "df = pd.concat(chunk_list)\n",
    "\n",
    "# Sabemos que los valores de totalprestamos corresponden a miles de pesos con un decimal. \n",
    "# Ajustamos para poder procesar adecuadamente y pasamos a $ MM.\n",
    "\n",
    "df.totalprestamos = df.totalprestamos.str.replace(\",\",\".\").astype(float) / 1000\n",
    "\n",
    "# Exportamos el dataset definitivo\n",
    "#df.to_csv(\"deudores_juridicas_202002.csv\") #ya no tenemos que repetir el proceso."
   ]
  },
  {
   "cell_type": "markdown",
   "metadata": {},
   "source": [
    "Al momento de crear \"chunk_filter\" podríamos haber considerado la siguiente fórmula ```\"cuitcuil > 30000000000\"```\n",
    "\n",
    "**¿Por qué no filtrar los casos de esa manera?**\n",
    "\n",
    "- La información **nos llega directamente como \"string\"** y podemos manipularla como \"string\". **¿Qué ganancia hay en cambiar eso?**\n",
    "- **¿Y si hay cuitcuils que no son exclusivamente numéricos?** Cualquier paso en falso nos va a consumir mucho tiempo (no nos olvidemos que es un .txt de casi 5 GB). Tampoco tanto tiempo! pero regalarlo así... :P"
   ]
  },
  {
   "cell_type": "markdown",
   "metadata": {},
   "source": [
    "## Trabajamos con los datos\n",
    "Como primer análisis exploratorio queremos visualizar los datos resumiéndolos por entidad.\n",
    "\n",
    "Nos interesa obtener deuda total, promedio de deuda, el coeficiente de variación ([CV](https://es.wikipedia.org/wiki/Coeficiente_de_variaci%C3%B3n)) y la cantidad de empresas por entidad."
   ]
  },
  {
   "cell_type": "code",
   "execution_count": 4,
   "metadata": {},
   "outputs": [],
   "source": [
    "# Calculo de agregados\n",
    "df = df.groupby('entidad').agg({'totalprestamos':['sum', 'mean', 'std'] , 'cuitcuil': 'nunique'})"
   ]
  },
  {
   "cell_type": "code",
   "execution_count": 5,
   "metadata": {},
   "outputs": [],
   "source": [
    "# Ajustamos \"etiquetas\" de columnas para visualizar mejor\n",
    "df = df.reset_index()\n",
    "df.columns = [\"entidad\", \"Prestamos Total en $ MM\", \"Promedio Deuda en $ MM\", \"sd\", \"Cantidad de empresas\"]"
   ]
  },
  {
   "cell_type": "code",
   "execution_count": 6,
   "metadata": {},
   "outputs": [],
   "source": [
    "# Cálculo Coeficiente de Variación\n",
    "df['CV'] = df[df.columns[3]]  / df[df.columns[2]]"
   ]
  },
  {
   "cell_type": "markdown",
   "metadata": {},
   "source": [
    "Para simplificar la visualización nos quedamos con las 15 instituciones con mayor deuda consolidada y añadimos etiquetas correspondientes."
   ]
  },
  {
   "cell_type": "code",
   "execution_count": 7,
   "metadata": {},
   "outputs": [],
   "source": [
    "df = df.sort_values(by = df.columns[1], ascending = False)[0:14]\n",
    "\n",
    "# pasar nombres de entidades\n",
    "df[\"entidad\"].replace({7: \"Galicia\",\n",
    "                   11: \"Nación\",\n",
    "                   14: \"Bapro\",\n",
    "                   15: \"ICBC\",\n",
    "                   16: \"Citi\",\n",
    "                   17: \"BBVA\",\n",
    "                   27: \"Supervielle\",\n",
    "                   29: \"Ciudad\",\n",
    "                   34: \"Patagonia\",\n",
    "                   72: \"Santander\",\n",
    "                   150: \"HSBC\",\n",
    "                   191: \"Credicoop\",\n",
    "                   259: \"Itaú\",\n",
    "                   285: \"Macro\",\n",
    "                   300: \"BICE\"}, inplace = True)"
   ]
  },
  {
   "cell_type": "markdown",
   "metadata": {},
   "source": [
    "## Visualización preliminar y algunas preguntas\n",
    "Ya estamos en condiciones de poder ver algunos resultados preliminares."
   ]
  },
  {
   "cell_type": "code",
   "execution_count": 8,
   "metadata": {},
   "outputs": [
    {
     "data": {
      "image/png": "[encoded data removed]",
      "text/plain": [
       "<Figure size 432x288 with 1 Axes>"
      ]
     },
     "metadata": {},
     "output_type": "display_data"
    }
   ],
   "source": [
    "import seaborn as sns\n",
    "%matplotlib inline\n",
    "\n",
    "sns.set_style(\"darkgrid\")\n",
    "\n",
    "g = sns.barplot(x='entidad', y='Prestamos Total en $ MM', data=df)\n",
    "g.set_xticklabels(g.get_xticklabels(), rotation=90); # el \";\" evita texto en el output"
   ]
  },
  {
   "cell_type": "markdown",
   "metadata": {},
   "source": [
    "¿Cuál es el banco con mayor volumen de deuda? **Nación.**"
   ]
  },
  {
   "cell_type": "code",
   "execution_count": 9,
   "metadata": {},
   "outputs": [
    {
     "data": {
      "image/png": "[encoded data removed]",
      "text/plain": [
       "<Figure size 432x288 with 1 Axes>"
      ]
     },
     "metadata": {
      "needs_background": "light"
     },
     "output_type": "display_data"
    }
   ],
   "source": [
    "g = sns.barplot(x='entidad', y='Cantidad de empresas', data=df)\n",
    "g.set_xticklabels(g.get_xticklabels(), rotation=90);"
   ]
  },
  {
   "cell_type": "markdown",
   "metadata": {},
   "source": [
    "¿Cuál es el banco con mayor cantidad de empresas deudoras? **Galicia.**"
   ]
  },
  {
   "cell_type": "code",
   "execution_count": 10,
   "metadata": {},
   "outputs": [
    {
     "data": {
      "image/png": "[encoded data removed]",
      "text/plain": [
       "<Figure size 432x288 with 1 Axes>"
      ]
     },
     "metadata": {
      "needs_background": "light"
     },
     "output_type": "display_data"
    }
   ],
   "source": [
    "g = sns.barplot(x='entidad', y='Promedio Deuda en $ MM', data=df)\n",
    "g.set_xticklabels(g.get_xticklabels(), rotation=90);"
   ]
  },
  {
   "cell_type": "markdown",
   "metadata": {},
   "source": [
    "¿Cuál es el banco con el promedio más alto de deuda? **Citi.**"
   ]
  },
  {
   "cell_type": "code",
   "execution_count": 11,
   "metadata": {},
   "outputs": [
    {
     "data": {
      "image/png": "[encoded data removed]",
      "text/plain": [
       "<Figure size 432x288 with 1 Axes>"
      ]
     },
     "metadata": {
      "needs_background": "light"
     },
     "output_type": "display_data"
    }
   ],
   "source": [
    "g = sns.barplot(x='entidad', y='CV', data=df)\n",
    "g.set_xticklabels(g.get_xticklabels(), rotation=90);"
   ]
  },
  {
   "cell_type": "markdown",
   "metadata": {},
   "source": [
    "¿Hay algún banco que se destaque en términos de mayor variabilidad de montos? **Nación.**\n",
    "En este punto podríamos suponer que a mayor variabilidad, más \"universal\" es su oferta: realiza pequeños, medianos y grandes prestamos."
   ]
  },
  {
   "cell_type": "markdown",
   "metadata": {},
   "source": [
    "## Interrogantes finales\n",
    "¿Hay datos que estén sesgando los resultados? Llama la atención los valores extremos de Citi y Galicia. \n",
    "\n",
    "¿Cómo podemos visualizar esta información de una manera más atractiva y directa? ¿podemos combinar los indicadores?\n",
    "\n",
    "¿Cuál será el comportamiento si agrupamos las empresas por actividad? ¿y por región?\n",
    "\n",
    "¿Podemos armar series históricas e identificar tendencias de mediano / largo plazo?\n",
    "\n",
    "Te invito a que sumes más preguntas... Muchas gracias!"
   ]
  }
 ],
 "metadata": {
  "kernelspec": {
   "display_name": "Python 3",
   "language": "python",
   "name": "python3"
  },
  "language_info": {
   "codemirror_mode": {
    "name": "ipython",
    "version": 3
   },
   "file_extension": ".py",
   "mimetype": "text/x-python",
   "name": "python",
   "nbconvert_exporter": "python",
   "pygments_lexer": "ipython3",
   "version": "3.7.4"
  }
 },
 "nbformat": 4,
 "nbformat_minor": 2
}
