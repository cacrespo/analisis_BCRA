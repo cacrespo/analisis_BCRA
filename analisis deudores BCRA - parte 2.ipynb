{
 "cells": [
  {
   "cell_type": "markdown",
   "metadata": {},
   "source": [
    "# Análisis deudores BCRA (parte 2)\n",
    "## junio de 2020\n",
    "\n",
    "Autor: Carlos A. Crespo (lvccrespo@gmail.com)"
   ]
  },
  {
   "cell_type": "markdown",
   "metadata": {},
   "source": [
    "A pedido del público ¿? retomamos el análisis de las empresas deudoras en Argentina y profundizamos en algunos aspectos.\n",
    "\n",
    "[Aquí](https://github.com/cacrespo/analisis_BCRA/blob/master/analisis%20deudores%20BCRA%20-%20parte%201.ipynb) se encuentra el desarrollo de la primera parte.\n",
    "\n",
    "Contábamos con un dataset con la info de las empresas a febrero de 2020. Cada CUIT con su deuda en cada institución financiera de la República Argentina."
   ]
  },
  {
   "cell_type": "markdown",
   "metadata": {},
   "source": [
    "## Distintos enfoques para ver ¿lo mismo?\n",
    "En el trabajo anterior **obtuvimos resultados para cada institución**: \"deuda total\", \"deuda promedio\", etc. Se podría decir que obtuvimos resultados \"mirando\" la información desde los ojos de los bancos. \n",
    "\n",
    "Ahora bien, podríamos **revisar los mismos datos desde una perspectiva distinta**, la perspectiva de las empresas: **¿a cuántos bancos le deben? ¿cuál es la deuda promedio por empresa?**\n",
    "\n",
    "Para hacer todo esto **es necesario tener claro cuál es el nivel de detalle**, de \"granularidad\" de los datos, y **cuál es el nivel que necesitamos**. Y finalmente *cómo dialogan cada uno de estos niveles*.\n",
    "\n",
    "Teníamos millones de filas y agregamos todo para cada una de las entidades financieras. Para calcular el total de deuda, tomamos cada fila con el valor de deuda con la entidad en cuestión y para todo ese grupo de filas obtuvimos un sólo valor final con la suma. Ahora vamos a dar un paso más y trabajar vinculando estos niveles que mencionaba anteriormente.\n",
    "\n",
    "- Si quisierás hacer esto en SPSS deberías explorar el comando `AGGREGATE` (que tiene todo el sentido del mundo porque es una \"agregación\").\n",
    "- Si lo trabajás en Tableau, hay que bucear en lo que ellos denominan \"expresiones de nivel de detalle\" (*LOD* por las siglas en inglés). Acá el comando no es tan intuitivo: `FIXED`.\n",
    "- Si lo hacés a mano con un ábaco: te deseo suerte.\n",
    "\n",
    "En pandas combinamos `groupby` y `agg` (casi casi SQL). Vamos a generar tablas __agrupando por__ y __agregando__ con las operaciones aritméticas que necesitemos:"
   ]
  },
  {
   "cell_type": "code",
   "execution_count": 1,
   "metadata": {},
   "outputs": [
    {
     "data": {
      "text/html": [
       "<div>\n",
       "<style scoped>\n",
       "    .dataframe tbody tr th:only-of-type {\n",
       "        vertical-align: middle;\n",
       "    }\n",
       "\n",
       "    .dataframe tbody tr th {\n",
       "        vertical-align: top;\n",
       "    }\n",
       "\n",
       "    .dataframe thead th {\n",
       "        text-align: right;\n",
       "    }\n",
       "</style>\n",
       "<table border=\"1\" class=\"dataframe\">\n",
       "  <thead>\n",
       "    <tr style=\"text-align: right;\">\n",
       "      <th></th>\n",
       "      <th>cuitcuil</th>\n",
       "      <th>Deuda máxima en $ MM</th>\n",
       "      <th>Prestamos Total en $ MM</th>\n",
       "      <th>Número de Acreedores</th>\n",
       "    </tr>\n",
       "  </thead>\n",
       "  <tbody>\n",
       "    <tr>\n",
       "      <th>0</th>\n",
       "      <td>30086400096</td>\n",
       "      <td>0.021</td>\n",
       "      <td>0.021</td>\n",
       "      <td>1</td>\n",
       "    </tr>\n",
       "    <tr>\n",
       "      <th>1</th>\n",
       "      <td>30259329996</td>\n",
       "      <td>0.007</td>\n",
       "      <td>0.007</td>\n",
       "      <td>1</td>\n",
       "    </tr>\n",
       "    <tr>\n",
       "      <th>2</th>\n",
       "      <td>30322242812</td>\n",
       "      <td>0.012</td>\n",
       "      <td>0.012</td>\n",
       "      <td>1</td>\n",
       "    </tr>\n",
       "    <tr>\n",
       "      <th>3</th>\n",
       "      <td>30500000127</td>\n",
       "      <td>4.165</td>\n",
       "      <td>6.213</td>\n",
       "      <td>5</td>\n",
       "    </tr>\n",
       "    <tr>\n",
       "      <th>4</th>\n",
       "      <td>30500001115</td>\n",
       "      <td>1.486</td>\n",
       "      <td>2.209</td>\n",
       "      <td>2</td>\n",
       "    </tr>\n",
       "  </tbody>\n",
       "</table>\n",
       "</div>"
      ],
      "text/plain": [
       "      cuitcuil  Deuda máxima en $ MM  Prestamos Total en $ MM  \\\n",
       "0  30086400096                 0.021                    0.021   \n",
       "1  30259329996                 0.007                    0.007   \n",
       "2  30322242812                 0.012                    0.012   \n",
       "3  30500000127                 4.165                    6.213   \n",
       "4  30500001115                 1.486                    2.209   \n",
       "\n",
       "   Número de Acreedores  \n",
       "0                     1  \n",
       "1                     1  \n",
       "2                     1  \n",
       "3                     5  \n",
       "4                     2  "
      ]
     },
     "execution_count": 1,
     "metadata": {},
     "output_type": "execute_result"
    }
   ],
   "source": [
    "import pandas as pd\n",
    "\n",
    "# Levamtamos el dataset que armamos previamente (¿no vas a correr todo de nuevo?)\n",
    "df = pd.read_csv(\"deudores_juridicas_202002.csv\")\n",
    "\n",
    "# Calculamos para cada CUIT con cuántos bancos tiene deuda y el volumen.\n",
    "df_empresas = df.groupby('cuitcuil').agg({'totalprestamos':['max', 'sum']  , 'entidad': 'nunique'}) # Incluimos 'max' para un cálculo posterior\n",
    "\n",
    "# Ajustamos \"etiquetas\" de columnas para visualizar mejor\n",
    "df_empresas = df_empresas.reset_index()\n",
    "df_empresas.columns = [\"cuitcuil\",  \"Deuda máxima en $ MM\", \"Prestamos Total en $ MM\",\"Número de Acreedores\"]\n",
    "\n",
    "# Revisamos los resultados\n",
    "df_empresas.head()"
   ]
  },
  {
   "cell_type": "markdown",
   "metadata": {},
   "source": [
    "Ya tenemos una tabla con todos los cuits, el volumen total de deuda, la deuda máxima entre todas las entidades y cuántos acreedores tienen. Por ejemplo para la última fila que visualizamos debe un total de \\\\$ 2.209 MM entre dos bancos y al que más le debe lo hace por \\\\$ 1.486 MM.\n",
    "\n",
    "#### Comencemos a explorar los resultados: ¿a cuántas entidades le debe cada empresa en promedio?"
   ]
  },
  {
   "cell_type": "code",
   "execution_count": 2,
   "metadata": {},
   "outputs": [
    {
     "data": {
      "text/html": [
       "<div>\n",
       "<style scoped>\n",
       "    .dataframe tbody tr th:only-of-type {\n",
       "        vertical-align: middle;\n",
       "    }\n",
       "\n",
       "    .dataframe tbody tr th {\n",
       "        vertical-align: top;\n",
       "    }\n",
       "\n",
       "    .dataframe thead th {\n",
       "        text-align: right;\n",
       "    }\n",
       "</style>\n",
       "<table border=\"1\" class=\"dataframe\">\n",
       "  <thead>\n",
       "    <tr style=\"text-align: right;\">\n",
       "      <th></th>\n",
       "      <th>Prestamos Total en $ MM</th>\n",
       "      <th>Número de Acreedores</th>\n",
       "    </tr>\n",
       "  </thead>\n",
       "  <tbody>\n",
       "    <tr>\n",
       "      <th>count</th>\n",
       "      <td>201338.000000</td>\n",
       "      <td>201338.000000</td>\n",
       "    </tr>\n",
       "    <tr>\n",
       "      <th>mean</th>\n",
       "      <td>7.718074</td>\n",
       "      <td>1.613372</td>\n",
       "    </tr>\n",
       "    <tr>\n",
       "      <th>std</th>\n",
       "      <td>228.121328</td>\n",
       "      <td>1.366594</td>\n",
       "    </tr>\n",
       "    <tr>\n",
       "      <th>min</th>\n",
       "      <td>0.000000</td>\n",
       "      <td>1.000000</td>\n",
       "    </tr>\n",
       "    <tr>\n",
       "      <th>25%</th>\n",
       "      <td>0.003000</td>\n",
       "      <td>1.000000</td>\n",
       "    </tr>\n",
       "    <tr>\n",
       "      <th>50%</th>\n",
       "      <td>0.045000</td>\n",
       "      <td>1.000000</td>\n",
       "    </tr>\n",
       "    <tr>\n",
       "      <th>75%</th>\n",
       "      <td>0.334000</td>\n",
       "      <td>2.000000</td>\n",
       "    </tr>\n",
       "    <tr>\n",
       "      <th>max</th>\n",
       "      <td>53826.226000</td>\n",
       "      <td>31.000000</td>\n",
       "    </tr>\n",
       "  </tbody>\n",
       "</table>\n",
       "</div>"
      ],
      "text/plain": [
       "       Prestamos Total en $ MM  Número de Acreedores\n",
       "count            201338.000000         201338.000000\n",
       "mean                  7.718074              1.613372\n",
       "std                 228.121328              1.366594\n",
       "min                   0.000000              1.000000\n",
       "25%                   0.003000              1.000000\n",
       "50%                   0.045000              1.000000\n",
       "75%                   0.334000              2.000000\n",
       "max               53826.226000             31.000000"
      ]
     },
     "execution_count": 2,
     "metadata": {},
     "output_type": "execute_result"
    }
   ],
   "source": [
    "# Nos ubicamos a nivel detalle empresas y obtenemos algunos valores descriptivos mediante describe()\n",
    "\n",
    "df_empresas[df_empresas.columns[2:]].describe()"
   ]
  },
  {
   "cell_type": "markdown",
   "metadata": {},
   "source": [
    "Perfecto. Ya tenemos las respuestas! El promedio de deuda por empresa es $ 7.7 MM y se endeudan con 1.6 bancos.\n",
    "\n",
    "Momeeeeeento! Si observamos con detenimiento vemos que **para ambos indicadores hay valores \"[muy extremos](https://es.wikipedia.org/wiki/Valor_at%C3%ADpico)\"**. \n",
    "Por ej. el 75% de los prestamos tiene valores menores a \\\\$ 334.000 y ¿el promedio es \\\\$ 7.7 MM?. El máximo en toda la muestra es casi \\\\$ 54.000 millones (WTF!).\n",
    "\n",
    "Veamos cómo se ve en un [boxplot](https://es.wikipedia.org/wiki/Diagrama_de_caja):"
   ]
  },
  {
   "cell_type": "code",
   "execution_count": 3,
   "metadata": {},
   "outputs": [
    {
     "data": {
      "image/png": "[encoded data removed]",
      "text/plain": [
       "<Figure size 432x288 with 2 Axes>"
      ]
     },
     "metadata": {
      "needs_background": "light"
     },
     "output_type": "display_data"
    }
   ],
   "source": [
    "import seaborn as sns\n",
    "import matplotlib.pyplot as plt\n",
    "\n",
    "fig, ax =plt.subplots(2,1) # dos gráficos en una sola columna\n",
    "fig.suptitle('Diagrama de Caja Prestamos Total por empresa')\n",
    "\n",
    "sns.boxplot(data=df_empresas,x=\"Prestamos Total en $ MM\", orient=\"h\",showfliers=True , palette=\"Set2\",ax=ax[0]); \n",
    "sns.boxplot(data=df_empresas,x=\"Prestamos Total en $ MM\", orient=\"h\",showfliers=False , palette=\"Set2\",ax=ax[1]); "
   ]
  },
  {
   "cell_type": "markdown",
   "metadata": {},
   "source": [
    "`\"showfliers=False\"` excluye de la visualización los outliers. En este caso el gráfico de abajo sería como un zoom del gráfico de arriba."
   ]
  },
  {
   "cell_type": "markdown",
   "metadata": {},
   "source": [
    "En número de acreedores pasa algo parecido: casi toda la muestra tiene menos de 3 acreedores y el máximo 31. Pero vamos a enfocarnos en el volumen de deuda.\n",
    "\n",
    "Intuitivamente -entre otras cosas- iría a ver esos casos puntuales: qué CUITS son, qué valores tienen en el resto de los campos. ¿Será un problema de carga? ¿habrá algún problema en la base? \n",
    "\n",
    "Hay numerosas maneras de abordar el tratamiento de los \"outliers\". Podríamos por ejemplo quedarnos con la [media recortada](https://es.wikipedia.org/wiki/Media_truncada), quitar casos según algún criterio externo a los datos, etc.\n",
    "\n",
    "A titulo ilustrativo veamos cómo se transforma la muestra luego de excluir todos los casos que se desvíen mucho de la media. Básicamente normalizamos los resultados y después filtramos con la condición hasta +-1.96 desvíos (¿te suena de algún lado ese valor?). "
   ]
  },
  {
   "cell_type": "code",
   "execution_count": 4,
   "metadata": {},
   "outputs": [
    {
     "data": {
      "text/html": [
       "<div>\n",
       "<style scoped>\n",
       "    .dataframe tbody tr th:only-of-type {\n",
       "        vertical-align: middle;\n",
       "    }\n",
       "\n",
       "    .dataframe tbody tr th {\n",
       "        vertical-align: top;\n",
       "    }\n",
       "\n",
       "    .dataframe thead th {\n",
       "        text-align: right;\n",
       "    }\n",
       "</style>\n",
       "<table border=\"1\" class=\"dataframe\">\n",
       "  <thead>\n",
       "    <tr style=\"text-align: right;\">\n",
       "      <th></th>\n",
       "      <th>Prestamos Total en $ MM</th>\n",
       "      <th>Número de Acreedores</th>\n",
       "    </tr>\n",
       "  </thead>\n",
       "  <tbody>\n",
       "    <tr>\n",
       "      <th>count</th>\n",
       "      <td>200887.000000</td>\n",
       "      <td>200887.000000</td>\n",
       "    </tr>\n",
       "    <tr>\n",
       "      <th>mean</th>\n",
       "      <td>2.585876</td>\n",
       "      <td>1.596390</td>\n",
       "    </tr>\n",
       "    <tr>\n",
       "      <th>std</th>\n",
       "      <td>17.677062</td>\n",
       "      <td>1.299253</td>\n",
       "    </tr>\n",
       "    <tr>\n",
       "      <th>min</th>\n",
       "      <td>0.000000</td>\n",
       "      <td>1.000000</td>\n",
       "    </tr>\n",
       "    <tr>\n",
       "      <th>25%</th>\n",
       "      <td>0.003000</td>\n",
       "      <td>1.000000</td>\n",
       "    </tr>\n",
       "    <tr>\n",
       "      <th>50%</th>\n",
       "      <td>0.045000</td>\n",
       "      <td>1.000000</td>\n",
       "    </tr>\n",
       "    <tr>\n",
       "      <th>75%</th>\n",
       "      <td>0.329000</td>\n",
       "      <td>2.000000</td>\n",
       "    </tr>\n",
       "    <tr>\n",
       "      <th>max</th>\n",
       "      <td>453.890000</td>\n",
       "      <td>31.000000</td>\n",
       "    </tr>\n",
       "  </tbody>\n",
       "</table>\n",
       "</div>"
      ],
      "text/plain": [
       "       Prestamos Total en $ MM  Número de Acreedores\n",
       "count            200887.000000         200887.000000\n",
       "mean                  2.585876              1.596390\n",
       "std                  17.677062              1.299253\n",
       "min                   0.000000              1.000000\n",
       "25%                   0.003000              1.000000\n",
       "50%                   0.045000              1.000000\n",
       "75%                   0.329000              2.000000\n",
       "max                 453.890000             31.000000"
      ]
     },
     "execution_count": 4,
     "metadata": {},
     "output_type": "execute_result"
    }
   ],
   "source": [
    "from scipy import stats\n",
    "import numpy as np\n",
    "\n",
    "c = np.abs(stats.zscore(df_empresas[\"Prestamos Total en $ MM\"])) < 1.96 # creamos una serie con True False para filtrar el dataset\n",
    "\n",
    "# con la nueva selección de casos vemos de nuevo el resumen de resultados. \n",
    "# el [2:] es porque tomamos desde la 3er columna en adelante (el orden arranca en 0)\n",
    "\n",
    "df_empresas[df_empresas.columns[2:]][c].describe()"
   ]
  },
  {
   "cell_type": "markdown",
   "metadata": {},
   "source": [
    "Parece mucho mejor. *Ahora el promedio de deuda es \\\\$ 2.5 MM y el máximo en \\\\$ 454 MM*. El número de acreedores (1.6) no parece alterarse demasiado.\n",
    "\n",
    "Sin embargo, dado que el 75% de los casos poseen valores hasta \\\\$ 329.000 y ***tenemos valores tan extremos: ¿tiene sentido enfocarnos en la media? ¿es adecuado considerar todos los casos \"dentro de la misma bolsa\"?***\n",
    "\n",
    "En situaciones como esta recomiendo el enfoque de [Lerner](https://www.youtube.com/watch?v=plLaNCLG-JE).\n",
    "\n",
    "Para terminar vale la pena hacer un cruce entre los dos indicadores. Parece que los valores extremos no son exclusividad de las empresas endeudadas con muchos bancos:"
   ]
  },
  {
   "cell_type": "code",
   "execution_count": 5,
   "metadata": {},
   "outputs": [
    {
     "data": {
      "image/png": "[encoded data removed]",
      "text/plain": [
       "<Figure size 1440x720 with 2 Axes>"
      ]
     },
     "metadata": {
      "needs_background": "light"
     },
     "output_type": "display_data"
    }
   ],
   "source": [
    "fig, ax =plt.subplots(2,1,figsize=(20, 10)) # dos gráficos en una sola columna y agrandamos un poco.\n",
    "fig.suptitle('Diagrama de Caja Prestamos Total por empresa según Número de Acreedores')\n",
    "\n",
    "sns.boxplot(data=df_empresas,y='Número de Acreedores',x=\"Prestamos Total en $ MM\", orient=\"h\",\n",
    "            showfliers=True , palette=\"Set2\",ax=ax[0]);\n",
    "sns.boxplot(data=df_empresas,y='Número de Acreedores',x=\"Prestamos Total en $ MM\", orient=\"h\",\n",
    "            showfliers=False , palette=\"Set2\",ax=ax[1]);\n"
   ]
  },
  {
   "cell_type": "markdown",
   "metadata": {},
   "source": [
    "#### ¿Cuál es el banco que se lleva el mayor volumen de deuda de cada empresa?\n",
    "Ahora bien, resulta que dificilmente una empresa tome deuda equitativamente con cada banco. Incluimos en los cálculos de agregación el valor máximo de deuda, y con ello hacemos el ejercicio de identificar cuál es el banco que se lleva el mayor volumen de cada CUIT (podría ser más de uno. Si fuera 50% y 50% entrarían las dos instituciones).\n",
    "\n",
    "Para abordar este interrogante **tenemos que hacer dialogar niveles de detalle distintos: necesitamos identificar el máximo deudor por empresa y luego consolidar para cada banco todos sus deudores**."
   ]
  },
  {
   "cell_type": "code",
   "execution_count": 6,
   "metadata": {},
   "outputs": [
    {
     "data": {
      "text/html": [
       "<div>\n",
       "<style scoped>\n",
       "    .dataframe tbody tr th:only-of-type {\n",
       "        vertical-align: middle;\n",
       "    }\n",
       "\n",
       "    .dataframe tbody tr th {\n",
       "        vertical-align: top;\n",
       "    }\n",
       "\n",
       "    .dataframe thead th {\n",
       "        text-align: right;\n",
       "    }\n",
       "</style>\n",
       "<table border=\"1\" class=\"dataframe\">\n",
       "  <thead>\n",
       "    <tr style=\"text-align: right;\">\n",
       "      <th></th>\n",
       "      <th>cuitcuil</th>\n",
       "      <th>entidad</th>\n",
       "      <th>totalprestamos</th>\n",
       "      <th>Deuda máxima en $ MM</th>\n",
       "      <th>Número de Acreedores</th>\n",
       "      <th>máximo acreedor</th>\n",
       "    </tr>\n",
       "  </thead>\n",
       "  <tbody>\n",
       "    <tr>\n",
       "      <th>0</th>\n",
       "      <td>30500041443</td>\n",
       "      <td>7</td>\n",
       "      <td>0.002</td>\n",
       "      <td>0.074</td>\n",
       "      <td>3</td>\n",
       "      <td>0</td>\n",
       "    </tr>\n",
       "    <tr>\n",
       "      <th>1</th>\n",
       "      <td>30500064230</td>\n",
       "      <td>7</td>\n",
       "      <td>0.002</td>\n",
       "      <td>38.426</td>\n",
       "      <td>5</td>\n",
       "      <td>0</td>\n",
       "    </tr>\n",
       "    <tr>\n",
       "      <th>2</th>\n",
       "      <td>30500095764</td>\n",
       "      <td>7</td>\n",
       "      <td>0.002</td>\n",
       "      <td>0.658</td>\n",
       "      <td>3</td>\n",
       "      <td>0</td>\n",
       "    </tr>\n",
       "    <tr>\n",
       "      <th>3</th>\n",
       "      <td>30500145966</td>\n",
       "      <td>7</td>\n",
       "      <td>0.002</td>\n",
       "      <td>0.002</td>\n",
       "      <td>1</td>\n",
       "      <td>1</td>\n",
       "    </tr>\n",
       "    <tr>\n",
       "      <th>4</th>\n",
       "      <td>30500689443</td>\n",
       "      <td>7</td>\n",
       "      <td>0.020</td>\n",
       "      <td>5.574</td>\n",
       "      <td>3</td>\n",
       "      <td>0</td>\n",
       "    </tr>\n",
       "  </tbody>\n",
       "</table>\n",
       "</div>"
      ],
      "text/plain": [
       "      cuitcuil  entidad  totalprestamos  Deuda máxima en $ MM  \\\n",
       "0  30500041443        7           0.002                 0.074   \n",
       "1  30500064230        7           0.002                38.426   \n",
       "2  30500095764        7           0.002                 0.658   \n",
       "3  30500145966        7           0.002                 0.002   \n",
       "4  30500689443        7           0.020                 5.574   \n",
       "\n",
       "   Número de Acreedores  máximo acreedor  \n",
       "0                     3                0  \n",
       "1                     5                0  \n",
       "2                     3                0  \n",
       "3                     1                1  \n",
       "4                     3                0  "
      ]
     },
     "execution_count": 6,
     "metadata": {},
     "output_type": "execute_result"
    }
   ],
   "source": [
    "# el dataset con las empresas y el detalle deuda máxima y número de acreedores que contruimos [\"NIVEL 1\"]\n",
    "df1 = df_empresas[['cuitcuil', \"Deuda máxima en $ MM\",\"Número de Acreedores\"]]\n",
    "\n",
    "# el dataset original con los campos entidad y monto de cada una de las deudas. [\"NIVEL 0\"]\n",
    "df2 = df[['cuitcuil', \"entidad\", \"totalprestamos\"]]\n",
    "\n",
    "# los juntamos en df3\n",
    "df3 = pd.merge(df2,df1,on='cuitcuil',how='left')\n",
    "\n",
    "# agregamos una columna donde identificamos si la entidad es máximo acreedor\n",
    "df3[\"máximo acreedor\"] = (df3[\"Deuda máxima en $ MM\"] == df3[\"totalprestamos\"]) * 1\n",
    "\n",
    "df3.head()"
   ]
  },
  {
   "cell_type": "markdown",
   "metadata": {},
   "source": [
    "En esta linea:\n",
    "`(df3[\"Deuda máxima en $ MM\"] == df3[\"totalprestamos\"]) * 1`\n",
    "\n",
    "multiplicamos por 1 un resultado *booleano* (true o false): convertimos de una manera simple y directa en 0 y 1. (Ya van a ver para qué)."
   ]
  },
  {
   "cell_type": "markdown",
   "metadata": {},
   "source": [
    "Con esta tabla ahora necesitamos consolidar la información por Banco y obtener los resultados que necesitamos:\n",
    "- % de deudores donde el banco es máximo acreedor\n",
    "- promedio de acreedores por empresa (por banco)"
   ]
  },
  {
   "cell_type": "code",
   "execution_count": 7,
   "metadata": {},
   "outputs": [],
   "source": [
    "# Calculo de agregados por banco [\"NIVEL 2\"]\n",
    "\n",
    "df4 = df3.groupby('entidad').agg({'totalprestamos': 'sum', 'máximo acreedor': 'mean', 'Número de Acreedores': 'mean', \n",
    "                                  'cuitcuil': 'nunique'})\n",
    "df4 = df4.reset_index()\n",
    "\n",
    "df4.columns = ['entidad', 'vol deuda', '% máximo acreedor', 'prom acreedores por emp','cant de deudores']\n"
   ]
  },
  {
   "cell_type": "markdown",
   "metadata": {},
   "source": [
    "Como habíamos convertido en 1 y 0 la condición \"máximo deudor\", al pedir la media\n",
    "`'máximo acreedor': 'mean'`\n",
    "obtenemos por resultado el porcentaje de clientes máximo deudores de cada banco.\n",
    "\n",
    "Del mismo modo que hicimos en la primera parte, nos quedamos con las 15 instituciones con mayor deuda consolidada y añadimos etiquetas correspondientes."
   ]
  },
  {
   "cell_type": "code",
   "execution_count": 8,
   "metadata": {},
   "outputs": [],
   "source": [
    "df4 = df4.sort_values(by = df4.columns[1], ascending = False)[0:14]\n",
    "\n",
    "# pasar nombres de entidades\n",
    "df4[\"entidad\"].replace({7: \"Galicia\",\n",
    "                   11: \"Nación\",\n",
    "                   14: \"Bapro\",\n",
    "                   15: \"ICBC\",\n",
    "                   16: \"Citi\",\n",
    "                   17: \"BBVA\",\n",
    "                   27: \"Supervielle\",\n",
    "                   29: \"Ciudad\",\n",
    "                   34: \"Patagonia\",\n",
    "                   72: \"Santander\",\n",
    "                   150: \"HSBC\",\n",
    "                   191: \"Credicoop\",\n",
    "                   259: \"Itaú\",\n",
    "                   285: \"Macro\",\n",
    "                   300: \"BICE\"}, inplace = True)"
   ]
  },
  {
   "cell_type": "markdown",
   "metadata": {},
   "source": [
    "## Ya estamos en condiciones de repasar resultados"
   ]
  },
  {
   "cell_type": "code",
   "execution_count": 9,
   "metadata": {},
   "outputs": [
    {
     "data": {
      "image/png": "[encoded data removed]",
      "text/plain": [
       "<Figure size 432x288 with 1 Axes>"
      ]
     },
     "metadata": {},
     "output_type": "display_data"
    }
   ],
   "source": [
    "import seaborn as sns\n",
    "%matplotlib inline\n",
    "sns.set_style(\"darkgrid\")\n",
    "\n",
    "df4 = df4.sort_values(by = df4.columns[3], ascending = False) # ordenamos por acreedores promedio\n",
    "\n",
    "g = sns.barplot(x='entidad', y='prom acreedores por emp', data=df4)\n",
    "g.set_xticklabels(g.get_xticklabels(), rotation=90); # el \";\" evita texto en el output"
   ]
  },
  {
   "cell_type": "markdown",
   "metadata": {},
   "source": [
    "Habíamos visto que las empresas **toman crédito con 1.6 instituciones en promedio**.\n",
    "\n",
    "Ahora bien, si lo vemos en cada cartera deudora encontramos que **Citi y BICE** son los bancos de mayor exposición. Por el contrario, **Galicia** parece compartir menos sus deudores."
   ]
  },
  {
   "cell_type": "code",
   "execution_count": 10,
   "metadata": {},
   "outputs": [
    {
     "data": {
      "image/png": "[encoded data removed]",
      "text/plain": [
       "<Figure size 432x288 with 1 Axes>"
      ]
     },
     "metadata": {},
     "output_type": "display_data"
    }
   ],
   "source": [
    "df4 = df4.sort_values(by = df4.columns[2], ascending = False)\n",
    "\n",
    "g = sns.barplot(x='entidad', y='% máximo acreedor', data=df4)\n",
    "g.set_xticklabels(g.get_xticklabels(), rotation=90); # el \";\" evita texto en el output"
   ]
  },
  {
   "cell_type": "markdown",
   "metadata": {},
   "source": [
    "¿Cuál es el banco con mayor porcentaje de empresas \"máximo\" deudor\"? **Galicia**. En el otro extremo encontramos a **Ciudad**."
   ]
  },
  {
   "cell_type": "markdown",
   "metadata": {},
   "source": [
    "## Más interrogantes...\n",
    "A todas las inquietudes de la publicación anterior, le sumamos nuevas cuestiones:\n",
    "\n",
    "¿Es correcto analizar conjuntamente las empresas \"mono-deudoras\" con las que que toman deuda en varias instituciones? ¿será que Galicia detenta una porción grande de deudores exclusivos?\n",
    "\n",
    "¿Tiene el mismo \"valor\" ser máximo deudor en una empresa que debe a dos instituciones que en otra que debe a cinco?\n",
    "\n",
    "¿Tiene el mismo \"valor\" ser máximo deudor prestando \\\\$ 1 MM que prestando \\\\$ 10.000? \n",
    "\n",
    "Si algún día llega la parte tres, vamos a trabajar en la mejor manera de visualizar toda esta información. Áspecto fundamental de todo esto. Muchas gracias!"
   ]
  }
 ],
 "metadata": {
  "kernelspec": {
   "display_name": "Python 3",
   "language": "python",
   "name": "python3"
  },
  "language_info": {
   "codemirror_mode": {
    "name": "ipython",
    "version": 3
   },
   "file_extension": ".py",
   "mimetype": "text/x-python",
   "name": "python",
   "nbconvert_exporter": "python",
   "pygments_lexer": "ipython3",
   "version": "3.7.6"
  }
 },
 "nbformat": 4,
 "nbformat_minor": 4
}
